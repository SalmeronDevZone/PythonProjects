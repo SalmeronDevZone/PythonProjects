{
 "cells": [
  {
   "cell_type": "code",
   "execution_count": 1,
   "id": "b4af18f8",
   "metadata": {},
   "outputs": [],
   "source": [
    "import pandas as pd "
   ]
  },
  {
   "cell_type": "code",
   "execution_count": 2,
   "id": "977dcf86",
   "metadata": {},
   "outputs": [
    {
     "data": {
      "text/html": [
       "<div>\n",
       "<style scoped>\n",
       "    .dataframe tbody tr th:only-of-type {\n",
       "        vertical-align: middle;\n",
       "    }\n",
       "\n",
       "    .dataframe tbody tr th {\n",
       "        vertical-align: top;\n",
       "    }\n",
       "\n",
       "    .dataframe thead th {\n",
       "        text-align: right;\n",
       "    }\n",
       "</style>\n",
       "<table border=\"1\" class=\"dataframe\">\n",
       "  <thead>\n",
       "    <tr style=\"text-align: right;\">\n",
       "      <th></th>\n",
       "      <th>Yes</th>\n",
       "      <th>No</th>\n",
       "    </tr>\n",
       "  </thead>\n",
       "  <tbody>\n",
       "    <tr>\n",
       "      <th>0</th>\n",
       "      <td>50</td>\n",
       "      <td>131</td>\n",
       "    </tr>\n",
       "    <tr>\n",
       "      <th>1</th>\n",
       "      <td>21</td>\n",
       "      <td>2</td>\n",
       "    </tr>\n",
       "  </tbody>\n",
       "</table>\n",
       "</div>"
      ],
      "text/plain": [
       "   Yes   No\n",
       "0   50  131\n",
       "1   21    2"
      ]
     },
     "execution_count": 2,
     "metadata": {},
     "output_type": "execute_result"
    }
   ],
   "source": [
    "pd.DataFrame( {'Yes': [50, 21], 'No': [131, 2]})\n"
   ]
  },
  {
   "cell_type": "code",
   "execution_count": null,
   "id": "098b81a4",
   "metadata": {},
   "outputs": [
    {
     "data": {
      "text/html": [
       "<div>\n",
       "<style scoped>\n",
       "    .dataframe tbody tr th:only-of-type {\n",
       "        vertical-align: middle;\n",
       "    }\n",
       "\n",
       "    .dataframe tbody tr th {\n",
       "        vertical-align: top;\n",
       "    }\n",
       "\n",
       "    .dataframe thead th {\n",
       "        text-align: right;\n",
       "    }\n",
       "</style>\n",
       "<table border=\"1\" class=\"dataframe\">\n",
       "  <thead>\n",
       "    <tr style=\"text-align: right;\">\n",
       "      <th></th>\n",
       "      <th>Bob</th>\n",
       "      <th>Sana</th>\n",
       "    </tr>\n",
       "  </thead>\n",
       "  <tbody>\n",
       "    <tr>\n",
       "      <th>Producto A</th>\n",
       "      <td>Me gusta</td>\n",
       "      <td>Bueno</td>\n",
       "    </tr>\n",
       "    <tr>\n",
       "      <th>Producto B</th>\n",
       "      <td>no me gusta</td>\n",
       "      <td>Malo</td>\n",
       "    </tr>\n",
       "  </tbody>\n",
       "</table>\n",
       "</div>"
      ],
      "text/plain": [
       "                    Bob   Sana\n",
       "Producto A     Me gusta  Bueno\n",
       "Producto B  no me gusta   Malo"
      ]
     },
     "execution_count": 4,
     "metadata": {},
     "output_type": "execute_result"
    }
   ],
   "source": [
    "pd.DataFrame( {\n",
    "    'Bob':['Me gusta', 'no me gusta'],\n",
    "    'Sana':['Bueno', 'Malo']},\n",
    "    index=['Producto A', 'Producto B'])"
   ]
  },
  {
   "cell_type": "code",
   "execution_count": 6,
   "id": "bbaa03a6",
   "metadata": {},
   "outputs": [
    {
     "data": {
      "text/plain": [
       "a    1\n",
       "b    2\n",
       "c    3\n",
       "d    4\n",
       "e    5\n",
       "Name: Serie de ejemplo, dtype: int64"
      ]
     },
     "execution_count": 6,
     "metadata": {},
     "output_type": "execute_result"
    }
   ],
   "source": [
    "pd.Series([1,2,3,4,5],\n",
    "          index=['a', 'b', 'c', 'd', 'e'],\n",
    "          name='Serie de ejemplo')"
   ]
  },
  {
   "cell_type": "code",
   "execution_count": 10,
   "id": "8b61c76e",
   "metadata": {},
   "outputs": [
    {
     "data": {
      "text/plain": [
       "(407, 1)"
      ]
     },
     "execution_count": 10,
     "metadata": {},
     "output_type": "execute_result"
    }
   ],
   "source": [
    "datosCoches = pd.read_csv('cars.csv')\n",
    "datosCoches.shape\n",
    "#datosCoches.head()"
   ]
  },
  {
   "cell_type": "code",
   "execution_count": 14,
   "id": "282dd266",
   "metadata": {},
   "outputs": [
    {
     "data": {
      "text/html": [
       "<div>\n",
       "<style scoped>\n",
       "    .dataframe tbody tr th:only-of-type {\n",
       "        vertical-align: middle;\n",
       "    }\n",
       "\n",
       "    .dataframe tbody tr th {\n",
       "        vertical-align: top;\n",
       "    }\n",
       "\n",
       "    .dataframe thead th {\n",
       "        text-align: right;\n",
       "    }\n",
       "</style>\n",
       "<table border=\"1\" class=\"dataframe\">\n",
       "  <thead>\n",
       "    <tr style=\"text-align: right;\">\n",
       "      <th></th>\n",
       "    </tr>\n",
       "    <tr>\n",
       "      <th>Car;MPG;Cylinders;Displacement;Horsepower;Weight;Acceleration;Model;Origin</th>\n",
       "    </tr>\n",
       "  </thead>\n",
       "  <tbody>\n",
       "    <tr>\n",
       "      <th>STRING;DOUBLE;INT;DOUBLE;DOUBLE;DOUBLE;DOUBLE;INT;CAT</th>\n",
       "    </tr>\n",
       "    <tr>\n",
       "      <th>Chevrolet Chevelle Malibu;18.0;8;307.0;130.0;3504.;12.0;70;US</th>\n",
       "    </tr>\n",
       "    <tr>\n",
       "      <th>Buick Skylark 320;15.0;8;350.0;165.0;3693.;11.5;70;US</th>\n",
       "    </tr>\n",
       "    <tr>\n",
       "      <th>Plymouth Satellite;18.0;8;318.0;150.0;3436.;11.0;70;US</th>\n",
       "    </tr>\n",
       "    <tr>\n",
       "      <th>AMC Rebel SST;16.0;8;304.0;150.0;3433.;12.0;70;US</th>\n",
       "    </tr>\n",
       "  </tbody>\n",
       "</table>\n",
       "</div>"
      ],
      "text/plain": [
       "Empty DataFrame\n",
       "Columns: []\n",
       "Index: [STRING;DOUBLE;INT;DOUBLE;DOUBLE;DOUBLE;DOUBLE;INT;CAT, Chevrolet Chevelle Malibu;18.0;8;307.0;130.0;3504.;12.0;70;US, Buick Skylark 320;15.0;8;350.0;165.0;3693.;11.5;70;US, Plymouth Satellite;18.0;8;318.0;150.0;3436.;11.0;70;US, AMC Rebel SST;16.0;8;304.0;150.0;3433.;12.0;70;US]"
      ]
     },
     "execution_count": 14,
     "metadata": {},
     "output_type": "execute_result"
    }
   ],
   "source": [
    "datosCoches2 = pd.read_csv('cars.csv', index_col=0)\n",
    "datosCoches2.head()"
   ]
  }
 ],
 "metadata": {
  "kernelspec": {
   "display_name": "Python 3",
   "language": "python",
   "name": "python3"
  },
  "language_info": {
   "codemirror_mode": {
    "name": "ipython",
    "version": 3
   },
   "file_extension": ".py",
   "mimetype": "text/x-python",
   "name": "python",
   "nbconvert_exporter": "python",
   "pygments_lexer": "ipython3",
   "version": "3.13.2"
  }
 },
 "nbformat": 4,
 "nbformat_minor": 5
}
