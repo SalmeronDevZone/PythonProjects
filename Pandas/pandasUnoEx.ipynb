{
 "cells": [
  {
   "cell_type": "code",
   "execution_count": null,
   "id": "e6fc6bd7",
   "metadata": {},
   "outputs": [],
   "source": [
    "import pandas as pd\n",
    "pd.set_option('display.max_rows', 5)\n",
    "print(\"Setup complete.\")"
   ]
  },
  {
   "cell_type": "markdown",
   "id": "1ab13b11",
   "metadata": {},
   "source": [
    "## 1.\n",
    "\n",
    "In the cell below, create a DataFrame `fruits` that looks like this:\n",
    "\n",
    "![](https://storage.googleapis.com/kaggle-media/learn/images/Ax3pp2A.png)"
   ]
  },
  {
   "cell_type": "code",
   "execution_count": null,
   "id": "0ad19ced",
   "metadata": {},
   "outputs": [],
   "source": [
    "fruits = pd.DataFrame({'Apples':[30], 'Bananas':[21]})"
   ]
  },
  {
   "cell_type": "markdown",
   "id": "1fad8af6",
   "metadata": {},
   "source": [
    "Create a dataframe `fruit_sales` that matches the diagram below:\n",
    "\n",
    "![](https://storage.googleapis.com/kaggle-media/learn/images/CHPn7ZF.png)"
   ]
  },
  {
   "cell_type": "code",
   "execution_count": null,
   "id": "01a4b90e",
   "metadata": {},
   "outputs": [
    {
     "data": {
      "text/html": [
       "<div>\n",
       "<style scoped>\n",
       "    .dataframe tbody tr th:only-of-type {\n",
       "        vertical-align: middle;\n",
       "    }\n",
       "\n",
       "    .dataframe tbody tr th {\n",
       "        vertical-align: top;\n",
       "    }\n",
       "\n",
       "    .dataframe thead th {\n",
       "        text-align: right;\n",
       "    }\n",
       "</style>\n",
       "<table border=\"1\" class=\"dataframe\">\n",
       "  <thead>\n",
       "    <tr style=\"text-align: right;\">\n",
       "      <th></th>\n",
       "      <th>Apples</th>\n",
       "      <th>Bananas</th>\n",
       "    </tr>\n",
       "  </thead>\n",
       "  <tbody>\n",
       "    <tr>\n",
       "      <th>2017 Sales</th>\n",
       "      <td>35</td>\n",
       "      <td>21</td>\n",
       "    </tr>\n",
       "    <tr>\n",
       "      <th>2018 Sales</th>\n",
       "      <td>41</td>\n",
       "      <td>34</td>\n",
       "    </tr>\n",
       "  </tbody>\n",
       "</table>\n",
       "</div>"
      ],
      "text/plain": [
       "            Apples  Bananas\n",
       "2017 Sales      35       21\n",
       "2018 Sales      41       34"
      ]
     },
     "execution_count": 14,
     "metadata": {},
     "output_type": "execute_result"
    }
   ],
   "source": [
    "fruit_sales = pd.DataFrame({\n",
    "    'Apples':[35,41],\n",
    "    'Bananas':[21,34]},\n",
    "    index = ['2017 Sales', '2018 Sales'])"
   ]
  },
  {
   "cell_type": "markdown",
   "id": "0986c6e9",
   "metadata": {},
   "source": [
    "Create a variable ingredients with a Series that looks like:\n",
    "\n",
    "Flour     4 cups\n",
    "Milk       1 cup\n",
    "Eggs     2 large\n",
    "Spam       1 can\n",
    "Name: Dinner, dtype: object\n"
   ]
  },
  {
   "cell_type": "code",
   "execution_count": 16,
   "id": "9f18f545",
   "metadata": {},
   "outputs": [
    {
     "data": {
      "text/plain": [
       "Flour     4 cups\n",
       "Milk       1 cup\n",
       "Eggs     2 large\n",
       "Spam       1 can\n",
       "Name: Dinner, dtype: object"
      ]
     },
     "execution_count": 16,
     "metadata": {},
     "output_type": "execute_result"
    }
   ],
   "source": [
    "ingredients = pd.Series({\n",
    "    'Flour': '4 cups',\n",
    "    'Milk': '1 cup',\n",
    "    'Eggs': '2 large',\n",
    "    'Spam': '1 can'\n",
    "}, name='Dinner')\n",
    "\n",
    "ingredients"
   ]
  },
  {
   "cell_type": "markdown",
   "id": "aeb244e8",
   "metadata": {},
   "source": [
    "Read the following csv dataset of wine reviews into a DataFrame called reviews:\n",
    "\n",
    "![](https://storage.googleapis.com/kaggle-media/learn/images/74RCZtU.png)"
   ]
  },
  {
   "cell_type": "code",
   "execution_count": null,
   "id": "4a4c8588",
   "metadata": {},
   "outputs": [],
   "source": [
    "reviews = pd.read_csv('../input/wine-reviews/winemag-data_first150k.csv', index_col=0)"
   ]
  },
  {
   "cell_type": "markdown",
   "id": "a8f13f34",
   "metadata": {},
   "source": [
    "animals = pd.DataFrame({'Cows': [12, 20], 'Goats': [22, 19]}, index=['Year 1', 'Year 2'])\n",
    "animals\n",
    "\n",
    "CONVERTIR ESE CÓDIGO EN UN ARCHIVO CSV.\n"
   ]
  },
  {
   "cell_type": "code",
   "execution_count": null,
   "id": "ee96e597",
   "metadata": {},
   "outputs": [],
   "source": [
    "animals = pd.DataFrame({'Cows': [12, 20], 'Goats': [22, 19]}, index=['Year 1', 'Year 2'])\n",
    "animals\n",
    "\n",
    "animals.to_csv('cows_and_goats.csv')"
   ]
  }
 ],
 "metadata": {
  "kernelspec": {
   "display_name": "Python 3",
   "language": "python",
   "name": "python3"
  },
  "language_info": {
   "codemirror_mode": {
    "name": "ipython",
    "version": 3
   },
   "file_extension": ".py",
   "mimetype": "text/x-python",
   "name": "python",
   "nbconvert_exporter": "python",
   "pygments_lexer": "ipython3",
   "version": "3.13.2"
  }
 },
 "nbformat": 4,
 "nbformat_minor": 5
}
